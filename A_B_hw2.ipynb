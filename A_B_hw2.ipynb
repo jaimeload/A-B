{
  "nbformat": 4,
  "nbformat_minor": 0,
  "metadata": {
    "colab": {
      "provenance": [],
      "authorship_tag": "ABX9TyMpH9tBELj7D1N/7tO7Wsd1",
      "include_colab_link": true
    },
    "kernelspec": {
      "name": "python3",
      "display_name": "Python 3"
    },
    "language_info": {
      "name": "python"
    }
  },
  "cells": [
    {
      "cell_type": "markdown",
      "metadata": {
        "id": "view-in-github",
        "colab_type": "text"
      },
      "source": [
        "<a href=\"https://colab.research.google.com/github/jaimeload/A-B/blob/main/A_B_hw2.ipynb\" target=\"_parent\"><img src=\"https://colab.research.google.com/assets/colab-badge.svg\" alt=\"Open In Colab\"/></a>"
      ]
    },
    {
      "cell_type": "markdown",
      "source": [
        "##1\n",
        "#### Скоринг гипотез:\n",
        "1. Добавление тарифных планов на 3, 6, 12 месяцев с соответствующей скидкой в 5, 10, 15% увеличит прирост тех подписчиков, кто пользуется сервисом продолжительное время на 20%."
      ],
      "metadata": {
        "id": "dDiDfXEqzVsN"
      }
    },
    {
      "cell_type": "code",
      "source": [
        "6 * 6 * 7"
      ],
      "metadata": {
        "colab": {
          "base_uri": "https://localhost:8080/"
        },
        "id": "T08qsiEEzWax",
        "outputId": "0451432e-8504-4039-a89a-772d267a37be"
      },
      "execution_count": 1,
      "outputs": [
        {
          "output_type": "execute_result",
          "data": {
            "text/plain": [
              "252"
            ]
          },
          "metadata": {},
          "execution_count": 1
        }
      ]
    },
    {
      "cell_type": "markdown",
      "source": [
        "\\\n",
        "2. Увеличение протяжённости \"короткой\" поездки до 200км увеличит прирост пользователей на 10%, так как им не придётся оплачивать комиссию."
      ],
      "metadata": {
        "id": "Dhe-0T2hzkAy"
      }
    },
    {
      "cell_type": "code",
      "source": [
        "7 * 8 * 10"
      ],
      "metadata": {
        "colab": {
          "base_uri": "https://localhost:8080/"
        },
        "id": "2P7_XoWQzr-U",
        "outputId": "d78bd348-1456-450b-eb5f-ffc34d955564"
      },
      "execution_count": 2,
      "outputs": [
        {
          "output_type": "execute_result",
          "data": {
            "text/plain": [
              "560"
            ]
          },
          "metadata": {},
          "execution_count": 2
        }
      ]
    },
    {
      "cell_type": "markdown",
      "source": [
        "\\\n",
        "3. Продление длительности пробного периода на 2 недели увеличит количество бронирований на 15%."
      ],
      "metadata": {
        "id": "YZGNeFQ2zxAs"
      }
    },
    {
      "cell_type": "code",
      "source": [
        "7 * 6 * 10"
      ],
      "metadata": {
        "colab": {
          "base_uri": "https://localhost:8080/"
        },
        "id": "UQBA75psz3pC",
        "outputId": "b39cf74a-4181-4005-b86d-f17a31987760"
      },
      "execution_count": 3,
      "outputs": [
        {
          "output_type": "execute_result",
          "data": {
            "text/plain": [
              "420"
            ]
          },
          "metadata": {},
          "execution_count": 3
        }
      ]
    },
    {
      "cell_type": "markdown",
      "source": [
        "\\\n",
        "4. Добавление возможности выбора пунктов поездки на интерактивной карте увеличит количество бронирований на 10%, потому что так пользователям будет удобнее строить маршрут."
      ],
      "metadata": {
        "id": "CRG4iopTz7Ti"
      }
    },
    {
      "cell_type": "code",
      "source": [
        "6 * 7 * 6"
      ],
      "metadata": {
        "colab": {
          "base_uri": "https://localhost:8080/"
        },
        "id": "iG8iJH_gz-uz",
        "outputId": "5ba843e5-a8be-4863-ec4b-b098aaf27019"
      },
      "execution_count": 4,
      "outputs": [
        {
          "output_type": "execute_result",
          "data": {
            "text/plain": [
              "252"
            ]
          },
          "metadata": {},
          "execution_count": 4
        }
      ]
    },
    {
      "cell_type": "markdown",
      "source": [
        "\\\n",
        "5. Добавление возможности приглашения друзей в сервис за нулевую комиссию себе и другу на 5 поездок, увеличит количество активных пользователей на 15%, потому что им обоим это выгодно."
      ],
      "metadata": {
        "id": "zt-xdptw0Dll"
      }
    },
    {
      "cell_type": "code",
      "source": [
        "9 * 9 * 7"
      ],
      "metadata": {
        "colab": {
          "base_uri": "https://localhost:8080/"
        },
        "id": "ywEDvR0R0IBJ",
        "outputId": "e39ce3a4-5813-4264-ac1e-0d06191d2151"
      },
      "execution_count": 5,
      "outputs": [
        {
          "output_type": "execute_result",
          "data": {
            "text/plain": [
              "567"
            ]
          },
          "metadata": {},
          "execution_count": 5
        }
      ]
    },
    {
      "cell_type": "markdown",
      "source": [
        "\n",
        "##2\n",
        "####Шаблон дизайна эксперимента:\n",
        "\n",
        "\n",
        "1.   *Гипотеза* - Добавление возможности приглашения друзей в сервис за 50%-ю комиссию себе и другу на 5 поездок, увеличит количество активных пользователей на 10%, потому что им обоим это выгодно.\n",
        "\n",
        "2. *Что делаем ?* - Определяем две группы пользователей: контрольная и экспериментальная:\n",
        "   - Контрольная: пользователи, которым не предоставлена возможность приглашать друзей.\n",
        "   - Экспериментальная: пользователи, которым предоставлена возможность приглашать друзей.\n",
        "\n",
        "3. *Тестируемые пользователи* - Рандомно распределённые пользователи в обеих группах.\n",
        "\n",
        "4. *Ключевая метрика* - Количество активных пользователей.\n",
        "\n",
        "5. *Ожидаемый эффект* - Увеличение количества активных пользователей в экспериментальной группе.\n",
        "\n",
        "6. *План действий в результате эксперимента* - Проводим статистический анализ двух групп, делаем вывод о влиянии реферальной функции на количество активных и приток пользователей в общем. Если наблюдаемый результат соответветствует ожидаемому, то внедряем функцию для всех пользователей. В противном случае - нет или пересматриваем условия и параметры и тестируем снова.\n"
      ],
      "metadata": {
        "id": "XL-dTWYC1MMM"
      }
    }
  ]
}